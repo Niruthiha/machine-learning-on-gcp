{
 "cells": [
  {
   "cell_type": "markdown",
   "metadata": {},
   "source": [
    "<title>Coastline image classification using ML Toolbox and Transfer Learning</title>\n",
    "<h1>Coastline image classification using ML Toolbox and Transfer Learning</h1>\n",
    "\n",
    "We have a bunch of aerial images of coastlines that were photographed from drones. They were then tagged into several categories based on their potential for flooding. We'd like to be able to train a machine learning model to identify the appropriate category that new drone images of a shoreline are depicting.\n",
    "<p>\n",
    "This dataset is courtesy of Texas A&M University (See https://storage.googleapis.com/tamucc_coastline/GooglePermissionForImages_20170119.pdf for details).\n",
    "<p>\n",
    "<h2> Dataset organization </h2>\n",
    "<p>\n",
    "Organize the dataset into two parts:\n",
    "<ol>\n",
    "<li> Upload the images to Google Cloud Storage.\n",
    "<li> Create a BigQuery table that has two columns:  image_url and label.  The image_url is the GCS location and the label is the true classification type.\n",
    "</ol>"
   ]
  },
  {
   "cell_type": "code",
   "execution_count": 1,
   "metadata": {},
   "outputs": [
    {
     "name": "stdout",
     "output_type": "stream",
     "text": [
      "Collecting pip==9.0.3\n",
      "  Downloading https://files.pythonhosted.org/packages/ac/95/a05b56bb975efa78d3557efa36acaf9cf5d2fd0ee0062060493687432e03/pip-9.0.3-py2.py3-none-any.whl (1.4MB)\n",
      "Installing collected packages: pip\n",
      "  Found existing installation: pip 18.1\n",
      "    Uninstalling pip-18.1:\n",
      "      Successfully uninstalled pip-18.1\n",
      "Successfully installed pip-9.0.3\n",
      "Dataset 'main-form-237717:demos' successfully created.\n",
      "\n"
     ]
    },
    {
     "name": "stderr",
     "output_type": "stream",
     "text": [
      "\r",
      "Waiting on bqjob_r693800c86dd5d5cf_0000016a26e2af87_1 ... (0s) Current status: RUNNING\r",
      "                                                                                      \r",
      "Waiting on bqjob_r693800c86dd5d5cf_0000016a26e2af87_1 ... (0s) Current status: DONE   "
     ]
    }
   ],
   "source": [
    "%bash\n",
    "pip install pip==9.0.3\n",
    "bq mk demos\n",
    "bq rm -f demos.coastline_images\n",
    "bq load \\\n",
    "   --source_format=CSV --skip_leading_rows=1 \\\n",
    "   demos.coastline_images \\\n",
    "   gs://tamucc_coastline/labeled_images.csv \\\n",
    "   image_url:string,short_label:string,label:string"
   ]
  },
  {
   "cell_type": "markdown",
   "metadata": {},
   "source": [
    "This is what the labeled dataset looks like (To train on a different set of images, start with a BigQuery table that has these two columns)."
   ]
  },
  {
   "cell_type": "code",
   "execution_count": 4,
   "metadata": {},
   "outputs": [
    {
     "name": "stdout",
     "output_type": "stream",
     "text": [
      "Have a total of 10533 labeled images\n"
     ]
    },
    {
     "data": {
      "text/html": [
       "<div>\n",
       "<style scoped>\n",
       "    .dataframe tbody tr th:only-of-type {\n",
       "        vertical-align: middle;\n",
       "    }\n",
       "\n",
       "    .dataframe tbody tr th {\n",
       "        vertical-align: top;\n",
       "    }\n",
       "\n",
       "    .dataframe thead th {\n",
       "        text-align: right;\n",
       "    }\n",
       "</style>\n",
       "<table border=\"1\" class=\"dataframe\">\n",
       "  <thead>\n",
       "    <tr style=\"text-align: right;\">\n",
       "      <th></th>\n",
       "      <th>image_url</th>\n",
       "      <th>label</th>\n",
       "    </tr>\n",
       "  </thead>\n",
       "  <tbody>\n",
       "    <tr>\n",
       "      <th>0</th>\n",
       "      <td>gs://tamucc_coastline/esi_images/IMG_3059_SecD...</td>\n",
       "      <td>Sheltered tidal flats</td>\n",
       "    </tr>\n",
       "    <tr>\n",
       "      <th>1</th>\n",
       "      <td>gs://tamucc_coastline/esi_images/IMG_3062_SecD...</td>\n",
       "      <td>Sheltered tidal flats</td>\n",
       "    </tr>\n",
       "    <tr>\n",
       "      <th>2</th>\n",
       "      <td>gs://tamucc_coastline/esi_images/IMG_3065_SecD...</td>\n",
       "      <td>Sheltered tidal flats</td>\n",
       "    </tr>\n",
       "    <tr>\n",
       "      <th>3</th>\n",
       "      <td>gs://tamucc_coastline/esi_images/IMG_3068_SecD...</td>\n",
       "      <td>Sheltered tidal flats</td>\n",
       "    </tr>\n",
       "    <tr>\n",
       "      <th>4</th>\n",
       "      <td>gs://tamucc_coastline/esi_images/IMG_3072_SecD...</td>\n",
       "      <td>Sheltered tidal flats</td>\n",
       "    </tr>\n",
       "  </tbody>\n",
       "</table>\n",
       "</div>"
      ],
      "text/plain": [
       "                                           image_url                  label\n",
       "0  gs://tamucc_coastline/esi_images/IMG_3059_SecD...  Sheltered tidal flats\n",
       "1  gs://tamucc_coastline/esi_images/IMG_3062_SecD...  Sheltered tidal flats\n",
       "2  gs://tamucc_coastline/esi_images/IMG_3065_SecD...  Sheltered tidal flats\n",
       "3  gs://tamucc_coastline/esi_images/IMG_3068_SecD...  Sheltered tidal flats\n",
       "4  gs://tamucc_coastline/esi_images/IMG_3072_SecD...  Sheltered tidal flats"
      ]
     },
     "execution_count": 4,
     "metadata": {},
     "output_type": "execute_result"
    }
   ],
   "source": [
    "import google.datalab.bigquery as bq\n",
    "\n",
    "sql = \"SELECT image_url, label FROM demos.coastline_images\"\n",
    "df = bq.Query(sql).execute().result().to_dataframe()\n",
    "print 'Have a total of {} labeled images'.format(len(df))\n",
    "df.head()"
   ]
  },
  {
   "cell_type": "code",
   "execution_count": 5,
   "metadata": {},
   "outputs": [
    {
     "name": "stderr",
     "output_type": "stream",
     "text": [
      "/usr/local/envs/py2env/lib/python2.7/site-packages/matplotlib/font_manager.py:1320: UserWarning: findfont: Font family [u'sans-serif'] not found. Falling back to DejaVu Sans\n",
      "  (prop.get_family(), self.defaultFamily[fontext]))\n"
     ]
    },
    {
     "data": {
      "image/png": "[encoded data removed]",
      "text/plain": [
       "<matplotlib.figure.Figure at 0x7f671eb6b590>"
      ]
     },
     "metadata": {},
     "output_type": "display_data"
    }
   ],
   "source": [
    "import matplotlib.pyplot as plt\n",
    "import google.datalab.bigquery as bq\n",
    "df = bq.Query(\"SELECT image_url, label FROM demos.coastline_images\").execute().result().to_dataframe()\n",
    "df['label'].value_counts().plot(kind='bar', title='Full dataset');"
   ]
  },
  {
   "cell_type": "markdown",
   "metadata": {},
   "source": [
    "<h2> Create a smaller subset </h2>\n",
    "<p>\n",
    "Normally, of course, you would train on all your data. However, for learning purposes, we don't want you to wait hours at each stage. Therefore, let's intentionally use only a small subset of the entire dataset. When adapting this sample to work on your own data, skip over this section or comment out the subsample clause."
   ]
  },
  {
   "cell_type": "code",
   "execution_count": 6,
   "metadata": {},
   "outputs": [
    {
     "name": "stdout",
     "output_type": "stream",
     "text": [
      "\n",
      "+----------------------------------------------------------------+---------------------------+\n",
      "|                           image_url                            |           label           |\n",
      "+----------------------------------------------------------------+---------------------------+\n",
      "| gs://tamucc_coastline/esi_images/IMG_2156_SecDE_Spr12.jpg      | Sheltered tidal flats     |\n",
      "| gs://tamucc_coastline/esi_images/IMG_7619_SecAB_Spr12.jpg      | Sheltered tidal flats     |\n",
      "| gs://tamucc_coastline/esi_images/IMG_1228_SecBC_Spr12.jpg      | Sheltered tidal flats     |\n",
      "| gs://tamucc_coastline/esi_images/IMG_0376_SecBC_Spr12.jpg      | Sheltered tidal flats     |\n",
      "| gs://tamucc_coastline/esi_images/IMG_6703_SecFG2_Spr12.jpg     | Sheltered tidal flats     |\n",
      "| gs://tamucc_coastline/esi_images/IMG_7575_SecG_Spr12.jpg       | Sheltered tidal flats     |\n",
      "| gs://tamucc_coastline/esi_images/IMG_8421_SecAB_Spr12.jpg      | Sheltered tidal flats     |\n",
      "| gs://tamucc_coastline/esi_images/IMG_8468_SecG_Spr12.jpg       | Sheltered tidal flats     |\n",
      "| gs://tamucc_coastline/esi_images/IMG_9749_SecBC_Spr12.jpg      | Sheltered tidal flats     |\n",
      "| gs://tamucc_coastline/esi_images/IMG_8709_SecG_Spr12.jpg       | Sheltered tidal flats     |\n",
      "| gs://tamucc_coastline/esi_images/IMG_0936_SecBC_Spr12.jpg      | Sheltered tidal flats     |\n",
      "| gs://tamucc_coastline/esi_images/IMG_3779_SecABD_Sum12_Pt1.jpg | Sheltered tidal flats     |\n",
      "| gs://tamucc_coastline/esi_images/IMG_7738_SecG_Spr12.jpg       | Sheltered tidal flats     |\n",
      "| gs://tamucc_coastline/esi_images/IMG_7958_SecG_Spr12.jpg       | Sheltered tidal flats     |\n",
      "| gs://tamucc_coastline/esi_images/IMG_0681_SecBC_Spr12.jpg      | Sheltered tidal flats     |\n",
      "| gs://tamucc_coastline/esi_images/IMG_7723_SecAB_Spr12.jpg      | Sheltered tidal flats     |\n",
      "| gs://tamucc_coastline/esi_images/IMG_7073_SecG_Spr12.jpg       | Sheltered tidal flats     |\n",
      "| gs://tamucc_coastline/esi_images/IMG_1304_SecBC_Spr12.jpg      | Sheltered tidal flats     |\n",
      "| gs://tamucc_coastline/esi_images/IMG_8445_SecAB_Spr12.jpg      | Sheltered tidal flats     |\n",
      "| gs://tamucc_coastline/esi_images/IMG_6495_SecFG2_Spr12.jpg     | Sheltered tidal flats     |\n",
      "| gs://tamucc_coastline/esi_images/IMG_2424_SecDE_Spr12.jpg      | Sheltered tidal flats     |\n",
      "| gs://tamucc_coastline/esi_images/IMG_2070_SecDE_Spr12.jpg      | Sheltered tidal flats     |\n",
      "| gs://tamucc_coastline/esi_images/IMG_7364_SecG_Spr12.jpg       | Sheltered tidal flats     |\n",
      "| gs://tamucc_coastline/esi_images/IMG_1921_SecDE_Spr12.jpg      | Sheltered tidal flats     |\n",
      "| gs://tamucc_coastline/esi_images/IMG_1177_SecABD_Sum12_Pt1.jpg | Sheltered tidal flats     |\n",
      "| gs://tamucc_coastline/esi_images/IMG_1419_SecBC_Spr12.jpg      | Sheltered tidal flats     |\n",
      "| gs://tamucc_coastline/esi_images/IMG_1230_SecBC_Spr12.jpg      | Sheltered tidal flats     |\n",
      "| gs://tamucc_coastline/esi_images/IMG_4646_SecC_Sum12_Pt1.jpg   | Sheltered tidal flats     |\n",
      "| gs://tamucc_coastline/esi_images/IMG_7024_SecI_Sum12_Pt2.jpg   | Sheltered tidal flats     |\n",
      "| gs://tamucc_coastline/esi_images/IMG_3804_SecDE_Spr12.jpg      | Sheltered tidal flats     |\n",
      "| gs://tamucc_coastline/esi_images/IMG_0066_SecBC_Spr12.jpg      | Sheltered tidal flats     |\n",
      "| gs://tamucc_coastline/esi_images/IMG_7653_SecG_Spr12.jpg       | Sheltered tidal flats     |\n",
      "| gs://tamucc_coastline/esi_images/IMG_2630_SecDE_Spr12.jpg      | Sheltered tidal flats     |\n",
      "| gs://tamucc_coastline/esi_images/IMG_1298_SecBC_Spr12.jpg      | Sheltered tidal flats     |\n",
      "| gs://tamucc_coastline/esi_images/IMG_1314_SecBC_Spr12.jpg      | Sheltered tidal flats     |\n",
      "| gs://tamucc_coastline/esi_images/IMG_0035_SecBC_Spr12.jpg      | Sheltered tidal flats     |\n",
      "| gs://tamucc_coastline/esi_images/IMG_4267_SecFG_Spr12.jpg      | Sheltered tidal flats     |\n",
      "| gs://tamucc_coastline/esi_images/IMG_2126_SecDE_Spr12.jpg      | Sheltered tidal flats     |\n",
      "| gs://tamucc_coastline/esi_images/IMG_0658_SecBC_Spr12.jpg      | Sheltered tidal flats     |\n",
      "| gs://tamucc_coastline/esi_images/IMG_1306_SecBC_Spr12.jpg      | Sheltered tidal flats     |\n",
      "| gs://tamucc_coastline/esi_images/IMG_9315_SecBC_Spr12.jpg      | Sheltered tidal flats     |\n",
      "| gs://tamucc_coastline/esi_images/IMG_3075_SecDE_Spr12.jpg      | Sheltered tidal flats     |\n",
      "| gs://tamucc_coastline/esi_images/IMG_0486_SecBC_Spr12.jpg      | Sheltered tidal flats     |\n",
      "| gs://tamucc_coastline/esi_images/IMG_8450_SecAB_Spr12.jpg      | Sheltered tidal flats     |\n",
      "| gs://tamucc_coastline/esi_images/IMG_6957_SecG_Spr12.jpg       | Sheltered tidal flats     |\n",
      "| gs://tamucc_coastline/esi_images/IMG_0450_SecBC_Spr12.jpg      | Sheltered tidal flats     |\n",
      "| gs://tamucc_coastline/esi_images/IMG_6870_SecG_Spr12.jpg       | Sheltered tidal flats     |\n",
      "| gs://tamucc_coastline/esi_images/IMG_0908_SecBC_Spr12.jpg      | Sheltered tidal flats     |\n",
      "| gs://tamucc_coastline/esi_images/IMG_4534_SecFG_Spr12.jpg      | Sheltered tidal flats     |\n",
      "| gs://tamucc_coastline/esi_images/IMG_7716_SecG_Spr12.jpg       | Sheltered tidal flats     |\n",
      "| gs://tamucc_coastline/esi_images/IMG_2969_SecDE_Spr12.jpg      | Sheltered tidal flats     |\n",
      "| gs://tamucc_coastline/esi_images/IMG_1135_SecBC_Spr12.jpg      | Sheltered tidal flats     |\n",
      "| gs://tamucc_coastline/esi_images/IMG_2407_SecDE_Spr12.jpg      | Sheltered tidal flats     |\n",
      "| gs://tamucc_coastline/esi_images/IMG_1896_SecDE_Spr12.jpg      | Sheltered tidal flats     |\n",
      "| gs://tamucc_coastline/esi_images/IMG_6450_SecFG2_Spr12.jpg     | Sheltered tidal flats     |\n",
      "| gs://tamucc_coastline/esi_images/IMG_9724_SecBC_Spr12.jpg      | Sheltered tidal flats     |\n",
      "| gs://tamucc_coastline/esi_images/IMG_2073_SecDE_Spr12.jpg      | Sheltered tidal flats     |\n",
      "| gs://tamucc_coastline/esi_images/IMG_9936_SecABD_Sum12_Pt1.jpg | Sheltered tidal flats     |\n",
      "| gs://tamucc_coastline/esi_images/IMG_0435_SecBC_Spr12.jpg      | Sheltered tidal flats     |\n",
      "| gs://tamucc_coastline/esi_images/IMG_3879_SecDE_Spr12.jpg      | Sheltered tidal flats     |\n",
      "| gs://tamucc_coastline/esi_images/IMG_9601_SecBC_Spr12.jpg      | Sheltered tidal flats     |\n",
      "| gs://tamucc_coastline/esi_images/IMG_6454_SecFG2_Spr12.jpg     | Sheltered tidal flats     |\n",
      "| gs://tamucc_coastline/esi_images/IMG_0558_SecABD_Sum12_Pt1.jpg | Sheltered tidal flats     |\n",
      "| gs://tamucc_coastline/esi_images/IMG_4048_SecABD_Sum12_Pt1.jpg | Sheltered tidal flats     |\n",
      "| gs://tamucc_coastline/esi_images/IMG_7762_SecG_Spr12.jpg       | Sheltered tidal flats     |\n",
      "| gs://tamucc_coastline/esi_images/IMG_6966_SecG_Spr12.jpg       | Sheltered tidal flats     |\n",
      "| gs://tamucc_coastline/esi_images/IMG_8569_SecG_Spr12.jpg       | Sheltered tidal flats     |\n",
      "| gs://tamucc_coastline/esi_images/IMG_9956_SecABD_Sum12_Pt1.jpg | Sheltered tidal flats     |\n",
      "| gs://tamucc_coastline/esi_images/IMG_8308_SecMO_Sum12_Pt3.jpg  | Sheltered tidal flats     |\n",
      "| gs://tamucc_coastline/esi_images/IMG_2726_SecABD_Sum12_Pt1.jpg | Fine-grained sand beaches |\n",
      "| gs://tamucc_coastline/esi_images/IMG_9373_SecBC_Spr12.jpg      | Fine-grained sand beaches |\n",
      "| gs://tamucc_coastline/esi_images/IMG_0986_SecBC_Spr12.jpg      | Fine-grained sand beaches |\n",
      "| gs://tamucc_coastline/esi_images/IMG_0811_SecBC_Spr12.jpg      | Fine-grained sand beaches |\n",
      "| gs://tamucc_coastline/esi_images/IMG_9369_SecBC_Spr12.jpg      | Fine-grained sand beaches |\n",
      "| gs://tamucc_coastline/esi_images/IMG_0549_SecBC_Spr12.jpg      | Fine-grained sand beaches |\n",
      "| gs://tamucc_coastline/esi_images/IMG_8132_SecAB_Spr12.jpg      | Fine-grained sand beaches |\n",
      "| gs://tamucc_coastline/esi_images/IMG_2812_SecABD_Sum12_Pt1.jpg | Fine-grained sand beaches |\n",
      "| gs://tamucc_coastline/esi_images/IMG_2619_SecABD_Sum12_Pt1.jpg | Fine-grained sand beaches |\n",
      "| gs://tamucc_coastline/esi_images/IMG_6453_SecMO_Sum12_Pt3.jpg  | Fine-grained sand beaches |\n",
      "| gs://tamucc_coastline/esi_images/IMG_9386_SecBC_Spr12.jpg      | Fine-grained sand beaches |\n",
      "| gs://tamucc_coastline/esi_images/IMG_7492_SecI_Sum12_Pt2.jpg   | Fine-grained sand beaches |\n",
      "| gs://tamucc_coastline/esi_images/IMG_7911_SecAB_Spr12.jpg      | Fine-grained sand beaches |\n",
      "| gs://tamucc_coastline/esi_images/IMG_6459_SecMO_Sum12_Pt3.jpg  | Fine-grained sand beaches |\n",
      "| gs://tamucc_coastline/esi_images/IMG_8023_SecAB_Spr12.jpg      | Fine-grained sand beaches |\n",
      "| gs://tamucc_coastline/esi_images/IMG_7560_SecI_Sum12_Pt2.jpg   | Fine-grained sand beaches |\n",
      "| gs://tamucc_coastline/esi_images/IMG_5775_SecJMO_Sum12_Pt3.jpg | Fine-grained sand beaches |\n",
      "| gs://tamucc_coastline/esi_images/IMG_9867_SecBC_Spr12.jpg      | Fine-grained sand beaches |\n",
      "| gs://tamucc_coastline/esi_images/IMG_9460_SecBC_Spr12.jpg      | Fine-grained sand beaches |\n",
      "| gs://tamucc_coastline/esi_images/IMG_9317_SecBC_Spr12.jpg      | Fine-grained sand beaches |\n",
      "| gs://tamucc_coastline/esi_images/IMG_2611_SecOP_Sum12_Pt3.jpg  | Fine-grained sand beaches |\n",
      "| gs://tamucc_coastline/esi_images/IMG_8100_SecAB_Spr12.jpg      | Fine-grained sand beaches |\n",
      "| gs://tamucc_coastline/esi_images/IMG_7463_SecI_Sum12_Pt2.jpg   | Fine-grained sand beaches |\n",
      "| gs://tamucc_coastline/esi_images/IMG_3163_SecDE_Spr12.jpg      | Fine-grained sand beaches |\n",
      "| gs://tamucc_coastline/esi_images/IMG_8146_SecAB_Spr12.jpg      | Fine-grained sand beaches |\n",
      "| gs://tamucc_coastline/esi_images/IMG_5699_SecJMO_Sum12_Pt3.jpg | Fine-grained sand beaches |\n",
      "| gs://tamucc_coastline/esi_images/IMG_7518_SecI_Sum12_Pt2.jpg   | Fine-grained sand beaches |\n",
      "| gs://tamucc_coastline/esi_images/IMG_6570_SecMO_Sum12_Pt3.jpg  | Fine-grained sand beaches |\n",
      "| gs://tamucc_coastline/esi_images/IMG_6593_SecMO_Sum12_Pt3.jpg  | Fine-grained sand beaches |\n",
      "| gs://tamucc_coastline/esi_images/IMG_0320_SecBC_Spr12.jpg      | Fine-grained sand beaches |\n",
      "| gs://tamucc_coastline/esi_images/IMG_8125_SecAB_Spr12.jpg      | Fine-grained sand beaches |\n",
      "+----------------------------------------------------------------+---------------------------+\n"
     ]
    },
    {
     "name": "stderr",
     "output_type": "stream",
     "text": [
      "\r",
      "Waiting on bqjob_rf70fceaf19ac7_0000016a26ef8644_1 ... (0s) Current status: RUNNING\r",
      "                                                                                   \r",
      "Waiting on bqjob_rf70fceaf19ac7_0000016a26ef8644_1 ... (1s) Current status: RUNNING\r",
      "                                                                                   \r",
      "Waiting on bqjob_rf70fceaf19ac7_0000016a26ef8644_1 ... (1s) Current status: DONE   "
     ]
    }
   ],
   "source": [
    "%bash\n",
    "QUERY='SELECT image_url, label FROM '\n",
    "TABLE=\"${PROJECT_ID}.demos.coastline_images\"\n",
    "SUBSAMPLE='WHERE (short_label = \"2A\" OR short_label = \"3A\" OR short_label = \"9\") AND MOD(ABS(FARM_FINGERPRINT(image_url)), 10) = 0'\n",
    "bq rm -f demos.coastline_train\n",
    "bq query --use_legacy_sql=false  --destination_table=demos.coastline_train \"$QUERY \\`$TABLE\\` $SUBSAMPLE\""
   ]
  },
  {
   "cell_type": "code",
   "execution_count": 7,
   "metadata": {},
   "outputs": [
    {
     "data": {
      "image/png": "[encoded data removed]",
      "text/plain": [
       "<matplotlib.figure.Figure at 0x7f671ec210d0>"
      ]
     },
     "metadata": {},
     "output_type": "display_data"
    }
   ],
   "source": [
    "import matplotlib.pyplot as plt\n",
    "import google.datalab.bigquery as bq\n",
    "train_df = bq.Query(\"SELECT image_url, label FROM demos.coastline_train\").execute().result().to_dataframe()\n",
    "train_df['label'].value_counts().plot(kind='bar', title='Training dataset');"
   ]
  },
  {
   "cell_type": "code",
   "execution_count": 2,
   "metadata": {},
   "outputs": [
    {
     "data": {
      "text/plain": [
       "192"
      ]
     },
     "execution_count": 2,
     "metadata": {},
     "output_type": "execute_result"
    }
   ],
   "source": [
    "len(train_df)"
   ]
  },
  {
   "cell_type": "markdown",
   "metadata": {},
   "source": [
    "<h2>Create bucket</h2>\n",
    "<p>\n",
    "Create a new bucket to hold your model etc. At the end of this lab, you can delete that bucket."
   ]
  },
  {
   "cell_type": "code",
   "execution_count": 8,
   "metadata": {},
   "outputs": [],
   "source": [
    "bucket = 'gs://' + datalab_project_id() + '-txf'\n",
    "preprocessed_dir = bucket + '/preprocessed'\n",
    "model_dir = bucket + '/model'"
   ]
  },
  {
   "cell_type": "code",
   "execution_count": 9,
   "metadata": {},
   "outputs": [
    {
     "name": "stdout",
     "output_type": "stream",
     "text": [
      "Creating bucket named gs://main-form-237717-txf\n"
     ]
    }
   ],
   "source": [
    "import subprocess\n",
    "print 'Creating bucket named {}'.format(bucket)\n",
    "subprocess.check_call('gsutil mb {}'.format(bucket).split());"
   ]
  },
  {
   "cell_type": "markdown",
   "metadata": {},
   "source": [
    "<h2> Preprocessing </h2>\n",
    "<p>\n",
    "Now that we have the images in Cloud Storage and the labels in BigQuery, we can use Datalab's ML Toolbox to do transfer learning. This consists of three steps: (1) Preprocessing (2) Training, and (3) Deploying.\n",
    "\n",
    "Preprocessing the images will resize the images, and do some image augmentation.  This would take about 3 hours for the 8000 coastline images. Even on 200 images, this will take about 30 minutes"
   ]
  },
  {
   "cell_type": "code",
   "execution_count": 10,
   "metadata": {},
   "outputs": [
    {
     "name": "stderr",
     "output_type": "stream",
     "text": [
      "/usr/local/envs/py2env/lib/python2.7/site-packages/h5py/__init__.py:36: FutureWarning: Conversion of the second argument of issubdtype from `float` to `np.floating` is deprecated. In future, it will be treated as `np.float64 == np.dtype(float).type`.\n",
      "  from ._conv import register_converters as _register_converters\n",
      "/usr/local/envs/py2env/lib/python2.7/site-packages/apache_beam/coders/typecoders.py:135: UserWarning: Using fallback coder for typehint: Any.\n",
      "  warnings.warn('Using fallback coder for typehint: %r.' % typehint)\n",
      "/usr/local/envs/py2env/lib/python2.7/site-packages/oauth2client/contrib/gce.py:99: UserWarning: You have requested explicit scopes to be used with a GCE service account.\n",
      "Using this argument will have no effect on the actual scopes for tokens\n",
      "requested. These scopes are set at VM instance creation time and\n",
      "can't be overridden in the request.\n",
      "\n",
      "  warnings.warn(_SCOPES_WARNING)\n",
      "/usr/local/envs/py2env/lib/python2.7/site-packages/apache_beam/io/gcp/gcsio.py:113: DeprecationWarning: object() takes no parameters\n",
      "  super(GcsIO, cls).__new__(cls, storage_client))\n"
     ]
    },
    {
     "data": {
      "text/html": [
       "Job \"preprocess-image-classification-190416-162057\" submitted.<p>Click <a href=\"https://console.developers.google.com/dataflow?project=main-form-237717\" target=\"_blank\">here</a> to track preprocessing job. <br/>"
      ]
     },
     "metadata": {},
     "output_type": "display_data"
    }
   ],
   "source": [
    "import mltoolbox.image.classification as model\n",
    "from google.datalab.ml import *\n",
    "import os\n",
    "\n",
    "train_set = BigQueryDataSet(\"SELECT image_url, label FROM demos.coastline_train\")\n",
    "job = model.preprocess_async(train_set, preprocessed_dir, cloud={'max_num_workers': 4})"
   ]
  },
  {
   "cell_type": "markdown",
   "metadata": {},
   "source": [
    "<b> Wait! </b>\n",
    "You have two options to proceed:\n",
    "<ol>\n",
    "<li> Monitor the above preprocessing job, and proceed with this notebook only after prepocessing is complete. The preprocessing job took about 30 minutes for me. You can explicitly wait for the job completion by running the Option 1 cell. Make sure to uncomment the last line in the cell.\n",
    "<li> Stop the job from the Dataflow console and then copy the results of my run into your GCS bucket by running the Option 2 cell. Make sure to uncomment the last 2 lines in the cell.\n",
    "</ol>"
   ]
  },
  {
   "cell_type": "code",
   "execution_count": 11,
   "metadata": {},
   "outputs": [
    {
     "data": {
      "text/plain": [
       "Job preprocess-image-classification-190416-162057 completed"
      ]
     },
     "execution_count": 11,
     "metadata": {},
     "output_type": "execute_result"
    }
   ],
   "source": [
    "# option 1 above. Wait for your preprocessing job to complete.\n",
    "# If you choose this option, uncomment the next line and run this cell.\n",
    "job.wait()"
   ]
  },
  {
   "cell_type": "code",
   "execution_count": null,
   "metadata": {},
   "outputs": [],
   "source": [
    "%bash\n",
    "# option 2 above. Copy my preprocessing results and move on.\n",
    "# If you choose this option, uncomment the last two lines and run this cell.\n",
    "FROM=gs://cloud-training-demos/coastline/preprocessed\n",
    "TO=\"gs://${PROJECT_ID}-txf\"\n",
    "#echo \"Copying already preprocessed files from $FROM to $TO\"\n",
    "#gsutil -m cp -r $FROM $TO"
   ]
  },
  {
   "cell_type": "markdown",
   "metadata": {},
   "source": [
    "<h2> Training </h2>\n",
    "<p>\n",
    "Train the last few layers of the inception model based on our images."
   ]
  },
  {
   "cell_type": "code",
   "execution_count": 18,
   "metadata": {},
   "outputs": [
    {
     "data": {
      "text/html": [
       "Job \"image_classification_train_190416_170149\" submitted.<p>Click <a href=\"https://console.developers.google.com/logs/viewer?project=main-form-237717&resource=ml.googleapis.com%2Fjob_id%2Fimage_classification_train_190416_170149\" target=\"_blank\">here</a> to view cloud log. <br/>"
      ]
     },
     "metadata": {},
     "output_type": "display_data"
    }
   ],
   "source": [
    "import mltoolbox.image.classification as model\n",
    "from google.datalab.ml import *\n",
    "job = model.train_async(preprocessed_dir, 32, 5000, model_dir,  # batchsize, numsteps\n",
    "                  cloud=CloudTrainingConfig('us-central1', 'BASIC'))"
   ]
  },
  {
   "cell_type": "markdown",
   "metadata": {},
   "source": [
    "Wait for the above job to complete before proceeding to next step (monitor job progress on the GCP console under ML Engine | Jobs).  It should take about 15 minutes to complete.\n",
    "The training log may contain harmless warnings and errors. Please check the message `Task completed successfully` at the end of the log to confirm the successful completion.\n",
    "<p>\n",
    "<h2> Evaluation </h2>"
   ]
  },
  {
   "cell_type": "code",
   "execution_count": 16,
   "metadata": {},
   "outputs": [
    {
     "name": "stdout",
     "output_type": "stream",
     "text": [
      "gs://main-form-237717-txf/model\n"
     ]
    },
    {
     "data": {
      "text/html": [
       "<p>TensorBoard was started successfully with pid 4720. Click <a href=\"/_proxy/55991/\" target=\"_blank\">here</a> to access it.</p>"
      ]
     },
     "metadata": {},
     "output_type": "display_data"
    }
   ],
   "source": [
    "from google.datalab.ml import *\n",
    "print model_dir\n",
    "tb_id = TensorBoard.start(model_dir)"
   ]
  },
  {
   "cell_type": "code",
   "execution_count": 15,
   "metadata": {},
   "outputs": [],
   "source": [
    "TensorBoard.stop(tb_id)"
   ]
  },
  {
   "cell_type": "markdown",
   "metadata": {},
   "source": [
    "When I did it, I got 85% accuracy on the held-out (evaluation dataset). This is not bad considering that we started with just about 200 images!\n",
    "<p>\n",
    "<h2> Deploy and predict model </h2>\n",
    "<p>\n",
    "Deploy the trained model as a web service. This simply a short cut to the underlying gcloud commands."
   ]
  },
  {
   "cell_type": "code",
   "execution_count": 19,
   "metadata": {},
   "outputs": [
    {
     "ename": "HttpError",
     "evalue": "<HttpError 409 when requesting https://ml.googleapis.com/v1/projects/main-form-237717/models?alt=json returned \"Field: model.name Error: A model with the same name already exists.\">",
     "output_type": "error",
     "traceback": [
      "\u001b[0;31m\u001b[0m",
      "\u001b[0;31mHttpError\u001b[0mTraceback (most recent call last)",
      "\u001b[0;32m<ipython-input-19-f0b08fb0631a>\u001b[0m in \u001b[0;36m<module>\u001b[0;34m()\u001b[0m\n\u001b[0;32m----> 1\u001b[0;31m \u001b[0mModels\u001b[0m\u001b[0;34m(\u001b[0m\u001b[0;34m)\u001b[0m\u001b[0;34m.\u001b[0m\u001b[0mcreate\u001b[0m\u001b[0;34m(\u001b[0m\u001b[0;34m'coastline'\u001b[0m\u001b[0;34m)\u001b[0m\u001b[0;34m\u001b[0m\u001b[0m\n\u001b[0m\u001b[1;32m      2\u001b[0m \u001b[0mModelVersions\u001b[0m\u001b[0;34m(\u001b[0m\u001b[0;34m'coastline'\u001b[0m\u001b[0;34m)\u001b[0m\u001b[0;34m.\u001b[0m\u001b[0mdeploy\u001b[0m\u001b[0;34m(\u001b[0m\u001b[0;34m'v1'\u001b[0m\u001b[0;34m,\u001b[0m \u001b[0mmodel_dir\u001b[0m\u001b[0;34m)\u001b[0m\u001b[0;34m\u001b[0m\u001b[0m\n",
      "\u001b[0;32m/usr/local/envs/py2env/lib/python2.7/site-packages/google/datalab/ml/_cloud_models.pyc\u001b[0m in \u001b[0;36mcreate\u001b[0;34m(self, model_name)\u001b[0m\n\u001b[1;32m     78\u001b[0m     \u001b[0mparent\u001b[0m \u001b[0;34m=\u001b[0m \u001b[0;34m'projects/'\u001b[0m \u001b[0;34m+\u001b[0m \u001b[0mself\u001b[0m\u001b[0;34m.\u001b[0m\u001b[0m_project_id\u001b[0m\u001b[0;34m\u001b[0m\u001b[0m\n\u001b[1;32m     79\u001b[0m     \u001b[0;31m# Model creation is instant. If anything goes wrong, Exception will be thrown.\u001b[0m\u001b[0;34m\u001b[0m\u001b[0;34m\u001b[0m\u001b[0m\n\u001b[0;32m---> 80\u001b[0;31m     \u001b[0;32mreturn\u001b[0m \u001b[0mself\u001b[0m\u001b[0;34m.\u001b[0m\u001b[0m_api\u001b[0m\u001b[0;34m.\u001b[0m\u001b[0mprojects\u001b[0m\u001b[0;34m(\u001b[0m\u001b[0;34m)\u001b[0m\u001b[0;34m.\u001b[0m\u001b[0mmodels\u001b[0m\u001b[0;34m(\u001b[0m\u001b[0;34m)\u001b[0m\u001b[0;34m.\u001b[0m\u001b[0mcreate\u001b[0m\u001b[0;34m(\u001b[0m\u001b[0mbody\u001b[0m\u001b[0;34m=\u001b[0m\u001b[0mbody\u001b[0m\u001b[0;34m,\u001b[0m \u001b[0mparent\u001b[0m\u001b[0;34m=\u001b[0m\u001b[0mparent\u001b[0m\u001b[0;34m)\u001b[0m\u001b[0;34m.\u001b[0m\u001b[0mexecute\u001b[0m\u001b[0;34m(\u001b[0m\u001b[0;34m)\u001b[0m\u001b[0;34m\u001b[0m\u001b[0m\n\u001b[0m\u001b[1;32m     81\u001b[0m \u001b[0;34m\u001b[0m\u001b[0m\n\u001b[1;32m     82\u001b[0m   \u001b[0;32mdef\u001b[0m \u001b[0mdelete\u001b[0m\u001b[0;34m(\u001b[0m\u001b[0mself\u001b[0m\u001b[0;34m,\u001b[0m \u001b[0mmodel_name\u001b[0m\u001b[0;34m)\u001b[0m\u001b[0;34m:\u001b[0m\u001b[0;34m\u001b[0m\u001b[0m\n",
      "\u001b[0;32m/usr/local/envs/py2env/lib/python2.7/site-packages/oauth2client/util.pyc\u001b[0m in \u001b[0;36mpositional_wrapper\u001b[0;34m(*args, **kwargs)\u001b[0m\n\u001b[1;32m    133\u001b[0m                 \u001b[0;32melif\u001b[0m \u001b[0mpositional_parameters_enforcement\u001b[0m \u001b[0;34m==\u001b[0m \u001b[0mPOSITIONAL_WARNING\u001b[0m\u001b[0;34m:\u001b[0m\u001b[0;34m\u001b[0m\u001b[0m\n\u001b[1;32m    134\u001b[0m                     \u001b[0mlogger\u001b[0m\u001b[0;34m.\u001b[0m\u001b[0mwarning\u001b[0m\u001b[0;34m(\u001b[0m\u001b[0mmessage\u001b[0m\u001b[0;34m)\u001b[0m\u001b[0;34m\u001b[0m\u001b[0m\n\u001b[0;32m--> 135\u001b[0;31m             \u001b[0;32mreturn\u001b[0m \u001b[0mwrapped\u001b[0m\u001b[0;34m(\u001b[0m\u001b[0;34m*\u001b[0m\u001b[0margs\u001b[0m\u001b[0;34m,\u001b[0m \u001b[0;34m**\u001b[0m\u001b[0mkwargs\u001b[0m\u001b[0;34m)\u001b[0m\u001b[0;34m\u001b[0m\u001b[0m\n\u001b[0m\u001b[1;32m    136\u001b[0m         \u001b[0;32mreturn\u001b[0m \u001b[0mpositional_wrapper\u001b[0m\u001b[0;34m\u001b[0m\u001b[0m\n\u001b[1;32m    137\u001b[0m \u001b[0;34m\u001b[0m\u001b[0m\n",
      "\u001b[0;32m/usr/local/envs/py2env/lib/python2.7/site-packages/googleapiclient/http.pyc\u001b[0m in \u001b[0;36mexecute\u001b[0;34m(self, http, num_retries)\u001b[0m\n\u001b[1;32m    838\u001b[0m       \u001b[0mcallback\u001b[0m\u001b[0;34m(\u001b[0m\u001b[0mresp\u001b[0m\u001b[0;34m)\u001b[0m\u001b[0;34m\u001b[0m\u001b[0m\n\u001b[1;32m    839\u001b[0m     \u001b[0;32mif\u001b[0m \u001b[0mresp\u001b[0m\u001b[0;34m.\u001b[0m\u001b[0mstatus\u001b[0m \u001b[0;34m>=\u001b[0m \u001b[0;36m300\u001b[0m\u001b[0;34m:\u001b[0m\u001b[0;34m\u001b[0m\u001b[0m\n\u001b[0;32m--> 840\u001b[0;31m       \u001b[0;32mraise\u001b[0m \u001b[0mHttpError\u001b[0m\u001b[0;34m(\u001b[0m\u001b[0mresp\u001b[0m\u001b[0;34m,\u001b[0m \u001b[0mcontent\u001b[0m\u001b[0;34m,\u001b[0m \u001b[0muri\u001b[0m\u001b[0;34m=\u001b[0m\u001b[0mself\u001b[0m\u001b[0;34m.\u001b[0m\u001b[0muri\u001b[0m\u001b[0;34m)\u001b[0m\u001b[0;34m\u001b[0m\u001b[0m\n\u001b[0m\u001b[1;32m    841\u001b[0m     \u001b[0;32mreturn\u001b[0m \u001b[0mself\u001b[0m\u001b[0;34m.\u001b[0m\u001b[0mpostproc\u001b[0m\u001b[0;34m(\u001b[0m\u001b[0mresp\u001b[0m\u001b[0;34m,\u001b[0m \u001b[0mcontent\u001b[0m\u001b[0;34m)\u001b[0m\u001b[0;34m\u001b[0m\u001b[0m\n\u001b[1;32m    842\u001b[0m \u001b[0;34m\u001b[0m\u001b[0m\n",
      "\u001b[0;31mHttpError\u001b[0m: <HttpError 409 when requesting https://ml.googleapis.com/v1/projects/main-form-237717/models?alt=json returned \"Field: model.name Error: A model with the same name already exists.\">"
     ]
    }
   ],
   "source": [
    "Models().create('coastline')\n",
    "ModelVersions('coastline').deploy('v1', model_dir)"
   ]
  },
  {
   "cell_type": "markdown",
   "metadata": {},
   "source": [
    "Once the model is deployed, we can send along an image and we will get back the classification probabilities. (these images are not among the 200 or so images used in training or in evaluation)"
   ]
  },
  {
   "cell_type": "code",
   "execution_count": 23,
   "metadata": {},
   "outputs": [
    {
     "name": "stdout",
     "output_type": "stream",
     "text": [
      "Predicting...\n"
     ]
    },
    {
     "ename": "HttpError",
     "evalue": "<HttpError 404 when requesting https://ml.googleapis.com/v1/projects/main-form-237717/models/coastline/versions/v1:predict?alt=json returned \"Field: name Error: The specified model version was not found.\">",
     "output_type": "error",
     "traceback": [
      "\u001b[0;31m\u001b[0m",
      "\u001b[0;31mHttpError\u001b[0mTraceback (most recent call last)",
      "\u001b[0;32m<ipython-input-23-a7711078d60d>\u001b[0m in \u001b[0;36m<module>\u001b[0;34m()\u001b[0m\n\u001b[1;32m      5\u001b[0m ]\n\u001b[1;32m      6\u001b[0m \u001b[0;31m# resize=True because otherwise the images are too large to send for online prediction.\u001b[0m\u001b[0;34m\u001b[0m\u001b[0;34m\u001b[0m\u001b[0m\n\u001b[0;32m----> 7\u001b[0;31m \u001b[0mmodel\u001b[0m\u001b[0;34m.\u001b[0m\u001b[0mpredict\u001b[0m\u001b[0;34m(\u001b[0m\u001b[0;34m'coastline.v1'\u001b[0m\u001b[0;34m,\u001b[0m \u001b[0mimages\u001b[0m\u001b[0;34m,\u001b[0m \u001b[0mresize\u001b[0m\u001b[0;34m=\u001b[0m\u001b[0mTrue\u001b[0m\u001b[0;34m,\u001b[0m \u001b[0mcloud\u001b[0m\u001b[0;34m=\u001b[0m\u001b[0mTrue\u001b[0m\u001b[0;34m)\u001b[0m\u001b[0;34m\u001b[0m\u001b[0m\n\u001b[0m",
      "\u001b[0;32m/usr/local/envs/py2env/lib/python2.7/site-packages/mltoolbox/image/classification/_api.pyc\u001b[0m in \u001b[0;36mpredict\u001b[0;34m(model, image_files, resize, show_image, cloud)\u001b[0m\n\u001b[1;32m    120\u001b[0m       \u001b[0mresults\u001b[0m \u001b[0;34m=\u001b[0m \u001b[0m_local\u001b[0m\u001b[0;34m.\u001b[0m\u001b[0mLocal\u001b[0m\u001b[0;34m.\u001b[0m\u001b[0mpredict\u001b[0m\u001b[0;34m(\u001b[0m\u001b[0mmodel\u001b[0m\u001b[0;34m,\u001b[0m \u001b[0mimage_files\u001b[0m\u001b[0;34m,\u001b[0m \u001b[0mresize\u001b[0m\u001b[0;34m,\u001b[0m \u001b[0mshow_image\u001b[0m\u001b[0;34m)\u001b[0m\u001b[0;34m\u001b[0m\u001b[0m\n\u001b[1;32m    121\u001b[0m     \u001b[0;32melse\u001b[0m\u001b[0;34m:\u001b[0m\u001b[0;34m\u001b[0m\u001b[0m\n\u001b[0;32m--> 122\u001b[0;31m       \u001b[0mresults\u001b[0m \u001b[0;34m=\u001b[0m \u001b[0m_cloud\u001b[0m\u001b[0;34m.\u001b[0m\u001b[0mCloud\u001b[0m\u001b[0;34m.\u001b[0m\u001b[0mpredict\u001b[0m\u001b[0;34m(\u001b[0m\u001b[0mmodel\u001b[0m\u001b[0;34m,\u001b[0m \u001b[0mimage_files\u001b[0m\u001b[0;34m,\u001b[0m \u001b[0mresize\u001b[0m\u001b[0;34m,\u001b[0m \u001b[0mshow_image\u001b[0m\u001b[0;34m)\u001b[0m\u001b[0;34m\u001b[0m\u001b[0m\n\u001b[0m\u001b[1;32m    123\u001b[0m     \u001b[0;32mreturn\u001b[0m \u001b[0mresults\u001b[0m\u001b[0;34m\u001b[0m\u001b[0m\n\u001b[1;32m    124\u001b[0m \u001b[0;34m\u001b[0m\u001b[0m\n",
      "\u001b[0;32m/usr/local/envs/py2env/lib/python2.7/site-packages/mltoolbox/image/classification/_cloud.pyc\u001b[0m in \u001b[0;36mpredict\u001b[0;34m(model_id, image_files, resize, show_image)\u001b[0m\n\u001b[1;32m    154\u001b[0m       })\n\u001b[1;32m    155\u001b[0m \u001b[0;34m\u001b[0m\u001b[0m\n\u001b[0;32m--> 156\u001b[0;31m     \u001b[0mpredictions\u001b[0m \u001b[0;34m=\u001b[0m \u001b[0mml\u001b[0m\u001b[0;34m.\u001b[0m\u001b[0mModelVersions\u001b[0m\u001b[0;34m(\u001b[0m\u001b[0mparts\u001b[0m\u001b[0;34m[\u001b[0m\u001b[0;36m0\u001b[0m\u001b[0;34m]\u001b[0m\u001b[0;34m)\u001b[0m\u001b[0;34m.\u001b[0m\u001b[0mpredict\u001b[0m\u001b[0;34m(\u001b[0m\u001b[0mparts\u001b[0m\u001b[0;34m[\u001b[0m\u001b[0;36m1\u001b[0m\u001b[0;34m]\u001b[0m\u001b[0;34m,\u001b[0m \u001b[0mdata\u001b[0m\u001b[0;34m)\u001b[0m\u001b[0;34m\u001b[0m\u001b[0m\n\u001b[0m\u001b[1;32m    157\u001b[0m     \u001b[0;32mif\u001b[0m \u001b[0mlen\u001b[0m\u001b[0;34m(\u001b[0m\u001b[0mpredictions\u001b[0m\u001b[0;34m)\u001b[0m \u001b[0;34m==\u001b[0m \u001b[0;36m0\u001b[0m\u001b[0;34m:\u001b[0m\u001b[0;34m\u001b[0m\u001b[0m\n\u001b[1;32m    158\u001b[0m       \u001b[0;32mraise\u001b[0m \u001b[0mException\u001b[0m\u001b[0;34m(\u001b[0m\u001b[0;34m'Prediction results are empty.'\u001b[0m\u001b[0;34m)\u001b[0m\u001b[0;34m\u001b[0m\u001b[0m\n",
      "\u001b[0;32m/usr/local/envs/py2env/lib/python2.7/site-packages/google/datalab/ml/_cloud_models.pyc\u001b[0m in \u001b[0;36mpredict\u001b[0;34m(self, version_name, data)\u001b[0m\n\u001b[1;32m    255\u001b[0m                                            name=full_version_name)\n\u001b[1;32m    256\u001b[0m     \u001b[0mrequest\u001b[0m\u001b[0;34m.\u001b[0m\u001b[0mheaders\u001b[0m\u001b[0;34m[\u001b[0m\u001b[0;34m'user-agent'\u001b[0m\u001b[0;34m]\u001b[0m \u001b[0;34m=\u001b[0m \u001b[0;34m'GoogleCloudDataLab/1.0'\u001b[0m\u001b[0;34m\u001b[0m\u001b[0m\n\u001b[0;32m--> 257\u001b[0;31m     \u001b[0mresult\u001b[0m \u001b[0;34m=\u001b[0m \u001b[0mrequest\u001b[0m\u001b[0;34m.\u001b[0m\u001b[0mexecute\u001b[0m\u001b[0;34m(\u001b[0m\u001b[0;34m)\u001b[0m\u001b[0;34m\u001b[0m\u001b[0m\n\u001b[0m\u001b[1;32m    258\u001b[0m     \u001b[0;32mif\u001b[0m \u001b[0;34m'predictions'\u001b[0m \u001b[0;32mnot\u001b[0m \u001b[0;32min\u001b[0m \u001b[0mresult\u001b[0m\u001b[0;34m:\u001b[0m\u001b[0;34m\u001b[0m\u001b[0m\n\u001b[1;32m    259\u001b[0m       \u001b[0;32mraise\u001b[0m \u001b[0mException\u001b[0m\u001b[0;34m(\u001b[0m\u001b[0;34m'Invalid response from service. Cannot find \"predictions\" in response.'\u001b[0m\u001b[0;34m)\u001b[0m\u001b[0;34m\u001b[0m\u001b[0m\n",
      "\u001b[0;32m/usr/local/envs/py2env/lib/python2.7/site-packages/oauth2client/util.pyc\u001b[0m in \u001b[0;36mpositional_wrapper\u001b[0;34m(*args, **kwargs)\u001b[0m\n\u001b[1;32m    133\u001b[0m                 \u001b[0;32melif\u001b[0m \u001b[0mpositional_parameters_enforcement\u001b[0m \u001b[0;34m==\u001b[0m \u001b[0mPOSITIONAL_WARNING\u001b[0m\u001b[0;34m:\u001b[0m\u001b[0;34m\u001b[0m\u001b[0m\n\u001b[1;32m    134\u001b[0m                     \u001b[0mlogger\u001b[0m\u001b[0;34m.\u001b[0m\u001b[0mwarning\u001b[0m\u001b[0;34m(\u001b[0m\u001b[0mmessage\u001b[0m\u001b[0;34m)\u001b[0m\u001b[0;34m\u001b[0m\u001b[0m\n\u001b[0;32m--> 135\u001b[0;31m             \u001b[0;32mreturn\u001b[0m \u001b[0mwrapped\u001b[0m\u001b[0;34m(\u001b[0m\u001b[0;34m*\u001b[0m\u001b[0margs\u001b[0m\u001b[0;34m,\u001b[0m \u001b[0;34m**\u001b[0m\u001b[0mkwargs\u001b[0m\u001b[0;34m)\u001b[0m\u001b[0;34m\u001b[0m\u001b[0m\n\u001b[0m\u001b[1;32m    136\u001b[0m         \u001b[0;32mreturn\u001b[0m \u001b[0mpositional_wrapper\u001b[0m\u001b[0;34m\u001b[0m\u001b[0m\n\u001b[1;32m    137\u001b[0m \u001b[0;34m\u001b[0m\u001b[0m\n",
      "\u001b[0;32m/usr/local/envs/py2env/lib/python2.7/site-packages/googleapiclient/http.pyc\u001b[0m in \u001b[0;36mexecute\u001b[0;34m(self, http, num_retries)\u001b[0m\n\u001b[1;32m    838\u001b[0m       \u001b[0mcallback\u001b[0m\u001b[0;34m(\u001b[0m\u001b[0mresp\u001b[0m\u001b[0;34m)\u001b[0m\u001b[0;34m\u001b[0m\u001b[0m\n\u001b[1;32m    839\u001b[0m     \u001b[0;32mif\u001b[0m \u001b[0mresp\u001b[0m\u001b[0;34m.\u001b[0m\u001b[0mstatus\u001b[0m \u001b[0;34m>=\u001b[0m \u001b[0;36m300\u001b[0m\u001b[0;34m:\u001b[0m\u001b[0;34m\u001b[0m\u001b[0m\n\u001b[0;32m--> 840\u001b[0;31m       \u001b[0;32mraise\u001b[0m \u001b[0mHttpError\u001b[0m\u001b[0;34m(\u001b[0m\u001b[0mresp\u001b[0m\u001b[0;34m,\u001b[0m \u001b[0mcontent\u001b[0m\u001b[0;34m,\u001b[0m \u001b[0muri\u001b[0m\u001b[0;34m=\u001b[0m\u001b[0mself\u001b[0m\u001b[0;34m.\u001b[0m\u001b[0muri\u001b[0m\u001b[0;34m)\u001b[0m\u001b[0;34m\u001b[0m\u001b[0m\n\u001b[0m\u001b[1;32m    841\u001b[0m     \u001b[0;32mreturn\u001b[0m \u001b[0mself\u001b[0m\u001b[0;34m.\u001b[0m\u001b[0mpostproc\u001b[0m\u001b[0;34m(\u001b[0m\u001b[0mresp\u001b[0m\u001b[0;34m,\u001b[0m \u001b[0mcontent\u001b[0m\u001b[0;34m)\u001b[0m\u001b[0;34m\u001b[0m\u001b[0m\n\u001b[1;32m    842\u001b[0m \u001b[0;34m\u001b[0m\u001b[0m\n",
      "\u001b[0;31mHttpError\u001b[0m: <HttpError 404 when requesting https://ml.googleapis.com/v1/projects/main-form-237717/models/coastline/versions/v1:predict?alt=json returned \"Field: name Error: The specified model version was not found.\">"
     ]
    }
   ],
   "source": [
    "images = [\n",
    "  'gs://tamucc_coastline/esi_images/IMG_2007_SecDE_Spr12.jpg', # sheltered tidal flats\n",
    "  'gs://tamucc_coastline/esi_images/IMG_0297_SecBC_Spr12.jpg', # scarps and steep slopes in clay\n",
    "  'gs://tamucc_coastline/esi_images/IMG_3264_SecDE_Spr12.jpg', # sand-grained beaches\n",
    "]\n",
    "# resize=True because otherwise the images are too large to send for online prediction.\n",
    "model.predict('coastline.v1', images, resize=True, cloud=True)"
   ]
  },
  {
   "cell_type": "code",
   "execution_count": null,
   "metadata": {
    "collapsed": true
   },
   "outputs": [],
   "source": []
  }
 ],
 "metadata": {
  "kernelspec": {
   "display_name": "Python 3",
   "language": "python",
   "name": "python3"
  },
  "language_info": {
   "codemirror_mode": {
    "name": "ipython",
    "version": 3
   },
   "file_extension": ".py",
   "mimetype": "text/x-python",
   "name": "python",
   "nbconvert_exporter": "python",
   "pygments_lexer": "ipython3",
   "version": "3.7.3"
  }
 },
 "nbformat": 4,
 "nbformat_minor": 2
}
