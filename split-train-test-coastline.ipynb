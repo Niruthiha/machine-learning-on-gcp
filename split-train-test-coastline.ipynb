{
 "cells": [
  {
   "cell_type": "code",
   "execution_count": null,
   "metadata": {},
   "outputs": [],
   "source": []
  },
  {
   "cell_type": "code",
   "execution_count": 15,
   "metadata": {},
   "outputs": [],
   "source": [
    "import pandas as pd\n",
    "\n",
    "labels= pd.read_csv('labels.csv',names=['gsurl','class'])\n",
    "labeled_images =pd.read_csv('labeled_images.csv') #training\n",
    "dict_explanation =pd.read_csv('dict_explanation.csv')"
   ]
  },
  {
   "cell_type": "code",
   "execution_count": 12,
   "metadata": {},
   "outputs": [
    {
     "data": {
      "text/html": [
       "<div>\n",
       "<style scoped>\n",
       "    .dataframe tbody tr th:only-of-type {\n",
       "        vertical-align: middle;\n",
       "    }\n",
       "\n",
       "    .dataframe tbody tr th {\n",
       "        vertical-align: top;\n",
       "    }\n",
       "\n",
       "    .dataframe thead th {\n",
       "        text-align: right;\n",
       "    }\n",
       "</style>\n",
       "<table border=\"1\" class=\"dataframe\">\n",
       "  <thead>\n",
       "    <tr style=\"text-align: right;\">\n",
       "      <th></th>\n",
       "      <th>gsurl</th>\n",
       "      <th>class</th>\n",
       "      <th>name</th>\n",
       "    </tr>\n",
       "  </thead>\n",
       "  <tbody>\n",
       "    <tr>\n",
       "      <th>0</th>\n",
       "      <td>gs://tamucc_coastline/esi_images/IMG_3059_SecD...</td>\n",
       "      <td>9</td>\n",
       "      <td>Sheltered tidal flats</td>\n",
       "    </tr>\n",
       "    <tr>\n",
       "      <th>1</th>\n",
       "      <td>gs://tamucc_coastline/esi_images/IMG_3062_SecD...</td>\n",
       "      <td>9</td>\n",
       "      <td>Sheltered tidal flats</td>\n",
       "    </tr>\n",
       "    <tr>\n",
       "      <th>2</th>\n",
       "      <td>gs://tamucc_coastline/esi_images/IMG_3065_SecD...</td>\n",
       "      <td>9</td>\n",
       "      <td>Sheltered tidal flats</td>\n",
       "    </tr>\n",
       "    <tr>\n",
       "      <th>3</th>\n",
       "      <td>gs://tamucc_coastline/esi_images/IMG_3068_SecD...</td>\n",
       "      <td>9</td>\n",
       "      <td>Sheltered tidal flats</td>\n",
       "    </tr>\n",
       "    <tr>\n",
       "      <th>4</th>\n",
       "      <td>gs://tamucc_coastline/esi_images/IMG_3072_SecD...</td>\n",
       "      <td>9</td>\n",
       "      <td>Sheltered tidal flats</td>\n",
       "    </tr>\n",
       "  </tbody>\n",
       "</table>\n",
       "</div>"
      ],
      "text/plain": [
       "                                               gsurl class  \\\n",
       "0  gs://tamucc_coastline/esi_images/IMG_3059_SecD...     9   \n",
       "1  gs://tamucc_coastline/esi_images/IMG_3062_SecD...     9   \n",
       "2  gs://tamucc_coastline/esi_images/IMG_3065_SecD...     9   \n",
       "3  gs://tamucc_coastline/esi_images/IMG_3068_SecD...     9   \n",
       "4  gs://tamucc_coastline/esi_images/IMG_3072_SecD...     9   \n",
       "\n",
       "                    name  \n",
       "0  Sheltered tidal flats  \n",
       "1  Sheltered tidal flats  \n",
       "2  Sheltered tidal flats  \n",
       "3  Sheltered tidal flats  \n",
       "4  Sheltered tidal flats  "
      ]
     },
     "execution_count": 12,
     "metadata": {},
     "output_type": "execute_result"
    }
   ],
   "source": [
    "labeled_images.head()"
   ]
  },
  {
   "cell_type": "code",
   "execution_count": 19,
   "metadata": {},
   "outputs": [
    {
     "data": {
      "text/plain": [
       "(11713, 2)"
      ]
     },
     "execution_count": 19,
     "metadata": {},
     "output_type": "execute_result"
    }
   ],
   "source": [
    "labels.shape"
   ]
  },
  {
   "cell_type": "code",
   "execution_count": 16,
   "metadata": {},
   "outputs": [
    {
     "data": {
      "text/html": [
       "<div>\n",
       "<style scoped>\n",
       "    .dataframe tbody tr th:only-of-type {\n",
       "        vertical-align: middle;\n",
       "    }\n",
       "\n",
       "    .dataframe tbody tr th {\n",
       "        vertical-align: top;\n",
       "    }\n",
       "\n",
       "    .dataframe thead th {\n",
       "        text-align: right;\n",
       "    }\n",
       "</style>\n",
       "<table border=\"1\" class=\"dataframe\">\n",
       "  <thead>\n",
       "    <tr style=\"text-align: right;\">\n",
       "      <th></th>\n",
       "      <th>gsurl</th>\n",
       "      <th>class</th>\n",
       "    </tr>\n",
       "  </thead>\n",
       "  <tbody>\n",
       "    <tr>\n",
       "      <th>11708</th>\n",
       "      <td>gs://tamucc_coastline/esi_images/IMG_4650_SABa...</td>\n",
       "      <td>10B</td>\n",
       "    </tr>\n",
       "    <tr>\n",
       "      <th>11709</th>\n",
       "      <td>gs://tamucc_coastline/esi_images/IMG_4647_SABa...</td>\n",
       "      <td>10B</td>\n",
       "    </tr>\n",
       "    <tr>\n",
       "      <th>11710</th>\n",
       "      <td>gs://tamucc_coastline/esi_images/IMG_4643_SABa...</td>\n",
       "      <td>10C</td>\n",
       "    </tr>\n",
       "    <tr>\n",
       "      <th>11711</th>\n",
       "      <td>gs://tamucc_coastline/esi_images/IMG_4636_SABa...</td>\n",
       "      <td>10B</td>\n",
       "    </tr>\n",
       "    <tr>\n",
       "      <th>11712</th>\n",
       "      <td>gs://tamucc_coastline/esi_images/IMG_4632_SABa...</td>\n",
       "      <td>10B</td>\n",
       "    </tr>\n",
       "  </tbody>\n",
       "</table>\n",
       "</div>"
      ],
      "text/plain": [
       "                                                   gsurl class\n",
       "11708  gs://tamucc_coastline/esi_images/IMG_4650_SABa...   10B\n",
       "11709  gs://tamucc_coastline/esi_images/IMG_4647_SABa...   10B\n",
       "11710  gs://tamucc_coastline/esi_images/IMG_4643_SABa...   10C\n",
       "11711  gs://tamucc_coastline/esi_images/IMG_4636_SABa...   10B\n",
       "11712  gs://tamucc_coastline/esi_images/IMG_4632_SABa...   10B"
      ]
     },
     "execution_count": 16,
     "metadata": {},
     "output_type": "execute_result"
    }
   ],
   "source": [
    "labels.tail()"
   ]
  },
  {
   "cell_type": "code",
   "execution_count": 11,
   "metadata": {},
   "outputs": [
    {
     "data": {
      "text/html": [
       "<div>\n",
       "<style scoped>\n",
       "    .dataframe tbody tr th:only-of-type {\n",
       "        vertical-align: middle;\n",
       "    }\n",
       "\n",
       "    .dataframe tbody tr th {\n",
       "        vertical-align: top;\n",
       "    }\n",
       "\n",
       "    .dataframe thead th {\n",
       "        text-align: right;\n",
       "    }\n",
       "</style>\n",
       "<table border=\"1\" class=\"dataframe\">\n",
       "  <thead>\n",
       "    <tr style=\"text-align: right;\">\n",
       "      <th></th>\n",
       "      <th>class</th>\n",
       "      <th>name</th>\n",
       "    </tr>\n",
       "  </thead>\n",
       "  <tbody>\n",
       "    <tr>\n",
       "      <th>0</th>\n",
       "      <td>1</td>\n",
       "      <td>Exposed walls and other structures made of con...</td>\n",
       "    </tr>\n",
       "    <tr>\n",
       "      <th>1</th>\n",
       "      <td>2A</td>\n",
       "      <td>Scarps and steep slopes in clay</td>\n",
       "    </tr>\n",
       "    <tr>\n",
       "      <th>2</th>\n",
       "      <td>2B</td>\n",
       "      <td>Wave-cut clay platforms</td>\n",
       "    </tr>\n",
       "    <tr>\n",
       "      <th>3</th>\n",
       "      <td>3A</td>\n",
       "      <td>Fine-grained sand beaches</td>\n",
       "    </tr>\n",
       "    <tr>\n",
       "      <th>4</th>\n",
       "      <td>3B</td>\n",
       "      <td>Scarps and steep slopes in sand</td>\n",
       "    </tr>\n",
       "    <tr>\n",
       "      <th>5</th>\n",
       "      <td>4</td>\n",
       "      <td>Coarse-grained sand beaches</td>\n",
       "    </tr>\n",
       "    <tr>\n",
       "      <th>6</th>\n",
       "      <td>5</td>\n",
       "      <td>Mixed sand and gravel (shell) beaches</td>\n",
       "    </tr>\n",
       "    <tr>\n",
       "      <th>7</th>\n",
       "      <td>6A</td>\n",
       "      <td>Gravel (shell) beaches</td>\n",
       "    </tr>\n",
       "    <tr>\n",
       "      <th>8</th>\n",
       "      <td>6B</td>\n",
       "      <td>Exposed riprap structures</td>\n",
       "    </tr>\n",
       "    <tr>\n",
       "      <th>9</th>\n",
       "      <td>7</td>\n",
       "      <td>Exposed tidal flats</td>\n",
       "    </tr>\n",
       "    <tr>\n",
       "      <th>10</th>\n",
       "      <td>8A</td>\n",
       "      <td>Sheltered solid man-made structures, such as b...</td>\n",
       "    </tr>\n",
       "    <tr>\n",
       "      <th>11</th>\n",
       "      <td>8B</td>\n",
       "      <td>Sheltered riprap structures</td>\n",
       "    </tr>\n",
       "    <tr>\n",
       "      <th>12</th>\n",
       "      <td>8C</td>\n",
       "      <td>Sheltered scarps</td>\n",
       "    </tr>\n",
       "    <tr>\n",
       "      <th>13</th>\n",
       "      <td>9</td>\n",
       "      <td>Sheltered tidal flats</td>\n",
       "    </tr>\n",
       "    <tr>\n",
       "      <th>14</th>\n",
       "      <td>10A</td>\n",
       "      <td>Salt- and brackish-water marshes</td>\n",
       "    </tr>\n",
       "    <tr>\n",
       "      <th>15</th>\n",
       "      <td>10B</td>\n",
       "      <td>Fresh-water marshes (herbaceous vegetation)</td>\n",
       "    </tr>\n",
       "    <tr>\n",
       "      <th>16</th>\n",
       "      <td>10C</td>\n",
       "      <td>Fresh-water swamps (woody vegetation)</td>\n",
       "    </tr>\n",
       "    <tr>\n",
       "      <th>17</th>\n",
       "      <td>1OD</td>\n",
       "      <td>Mangroves</td>\n",
       "    </tr>\n",
       "  </tbody>\n",
       "</table>\n",
       "</div>"
      ],
      "text/plain": [
       "   class                                               name\n",
       "0      1  Exposed walls and other structures made of con...\n",
       "1    2A                     Scarps and steep slopes in clay\n",
       "2    2B                             Wave-cut clay platforms\n",
       "3    3A                           Fine-grained sand beaches\n",
       "4    3B                     Scarps and steep slopes in sand\n",
       "5      4                        Coarse-grained sand beaches\n",
       "6      5              Mixed sand and gravel (shell) beaches\n",
       "7    6A                              Gravel (shell) beaches\n",
       "8    6B                           Exposed riprap structures\n",
       "9      7                                Exposed tidal flats\n",
       "10   8A   Sheltered solid man-made structures, such as b...\n",
       "11   8B                         Sheltered riprap structures\n",
       "12   8C                                    Sheltered scarps\n",
       "13     9                              Sheltered tidal flats\n",
       "14  10A                    Salt- and brackish-water marshes\n",
       "15  10B         Fresh-water marshes (herbaceous vegetation)\n",
       "16  10C               Fresh-water swamps (woody vegetation)\n",
       "17   1OD                                          Mangroves"
      ]
     },
     "execution_count": 11,
     "metadata": {},
     "output_type": "execute_result"
    }
   ],
   "source": [
    "dict_explanation"
   ]
  },
  {
   "cell_type": "code",
   "execution_count": 21,
   "metadata": {},
   "outputs": [],
   "source": [
    "from sklearn.model_selection import train_test_split\n",
    "#Set features and target data\n",
    "X=labels.loc[:, labels.columns != 'class']\n",
    "y=labels['class']\n",
    "\n",
    "# Split the data into 40% test and 60% training\n",
    "X_train, X_test, y_train, y_test = train_test_split(X, y, test_size=0.4, random_state=0)"
   ]
  },
  {
   "cell_type": "code",
   "execution_count": 38,
   "metadata": {},
   "outputs": [],
   "source": [
    "y_train = pd.DataFrame(y_train)"
   ]
  },
  {
   "cell_type": "code",
   "execution_count": 40,
   "metadata": {},
   "outputs": [],
   "source": [
    "y_test=pd.DataFrame(y_test)"
   ]
  },
  {
   "cell_type": "code",
   "execution_count": 61,
   "metadata": {},
   "outputs": [],
   "source": [
    "labels_train_set = pd.concat([X_train,y_train],axis=1,ignore_index=True)\n",
    "labels_train_set.columns=['gsurl','class']\n",
    "labels_test_set = pd.concat([X_test,y_test],axis=1,ignore_index=True)\n",
    "labels_test_set.columns=['gsurl','class']"
   ]
  },
  {
   "cell_type": "code",
   "execution_count": 64,
   "metadata": {},
   "outputs": [],
   "source": [
    "labels_train_set.to_csv('labels_train_set.csv',index=False)\n",
    "labels_test_set.to_csv('labels_test_set.csv',index=False)"
   ]
  },
  {
   "cell_type": "code",
   "execution_count": null,
   "metadata": {},
   "outputs": [],
   "source": []
  }
 ],
 "metadata": {
  "kernelspec": {
   "display_name": "Python 3",
   "language": "python",
   "name": "python3"
  },
  "language_info": {
   "codemirror_mode": {
    "name": "ipython",
    "version": 3
   },
   "file_extension": ".py",
   "mimetype": "text/x-python",
   "name": "python",
   "nbconvert_exporter": "python",
   "pygments_lexer": "ipython3",
   "version": "3.7.3"
  }
 },
 "nbformat": 4,
 "nbformat_minor": 2
}
